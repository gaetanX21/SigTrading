{
 "cells": [
  {
   "cell_type": "code",
   "execution_count": 6,
   "metadata": {},
   "outputs": [
    {
     "name": "stdout",
     "output_type": "stream",
     "text": [
      "2.1.0+cpu\n"
     ]
    }
   ],
   "source": [
    "import torch\n"
   ]
  },
  {
   "cell_type": "code",
   "execution_count": 4,
   "metadata": {},
   "outputs": [
    {
     "name": "stdout",
     "output_type": "stream",
     "text": [
      "Note: you may need to restart the kernel to use updated packages.\n"
     ]
    },
    {
     "name": "stderr",
     "output_type": "stream",
     "text": [
      "ERROR: Could not find a version that satisfies the requirement signatory==1.2.7.2.1.0 (from versions: 0.1.0, 0.1.1, 0.1.2, 0.2.0, 1.0.0, 1.1.0, 1.1.1, 1.1.2, 1.1.3, 1.1.4.1.2.0, 1.1.4.1.3.0, 1.1.5.1.2.0, 1.1.5.1.3.0, 1.1.6.1.2.0, 1.1.6.1.3.0, 1.1.6.1.3.1, 1.2.0.1.2.0, 1.2.0.1.3.0, 1.2.0.1.3.1, 1.2.0.1.4.0, 1.2.1.1.2.0, 1.2.1.1.3.0, 1.2.1.1.3.1, 1.2.1.1.4.0, 1.2.1.1.5.0, 1.2.2.1.2.0, 1.2.2.1.3.0, 1.2.2.1.3.1, 1.2.2.1.4.0, 1.2.2.1.5.0, 1.2.2.1.5.1, 1.2.3.1.2.0, 1.2.3.1.3.0, 1.2.3.1.3.1, 1.2.3.1.4.0, 1.2.3.1.5.0, 1.2.3.1.5.1, 1.2.3.1.6.0, 1.2.4.1.6.0, 1.2.4.1.7.0, 1.2.4.1.7.1, 1.2.6.1.6.0, 1.2.6.1.7.0, 1.2.6.1.7.1, 1.2.6.1.8.0, 1.2.6.1.8.1, 1.2.6.1.9.0)\n",
      "ERROR: No matching distribution found for signatory==1.2.7.2.1.0\n"
     ]
    }
   ],
   "source": [
    "pip install signatory==1.2.7.2.1.0  --no-cache-dir --force-reinstall"
   ]
  },
  {
   "cell_type": "code",
   "execution_count": null,
   "metadata": {},
   "outputs": [],
   "source": []
  }
 ],
 "metadata": {
  "kernelspec": {
   "display_name": "gpu2",
   "language": "python",
   "name": "gpu2"
  },
  "language_info": {
   "codemirror_mode": {
    "name": "ipython",
    "version": 3
   },
   "file_extension": ".py",
   "mimetype": "text/x-python",
   "name": "python",
   "nbconvert_exporter": "python",
   "pygments_lexer": "ipython3",
   "version": "3.9.12"
  }
 },
 "nbformat": 4,
 "nbformat_minor": 2
}
