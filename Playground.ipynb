{
 "cells": [
  {
   "cell_type": "code",
   "execution_count": 2,
   "metadata": {},
   "outputs": [],
   "source": [
    "import torch\n",
    "import signatory"
   ]
  },
  {
   "cell_type": "code",
   "execution_count": 10,
   "metadata": {},
   "outputs": [
    {
     "data": {
      "text/plain": [
       "tensor([[[0.7002, 0.5727],\n",
       "         [0.5294, 0.3566],\n",
       "         [0.4598, 0.6620],\n",
       "         [0.4804, 0.4413],\n",
       "         [0.9565, 0.6656],\n",
       "         [0.0999, 0.5592],\n",
       "         [0.7935, 0.8055],\n",
       "         [0.2871, 0.5132]]])"
      ]
     },
     "execution_count": 10,
     "metadata": {},
     "output_type": "execute_result"
    }
   ],
   "source": [
    "path"
   ]
  },
  {
   "cell_type": "code",
   "execution_count": 23,
   "metadata": {},
   "outputs": [
    {
     "data": {
      "text/plain": [
       "tensor([[[0.0206, 0.6516],\n",
       "         [0.4945, 0.5398],\n",
       "         [0.5117, 0.6047],\n",
       "         [0.8848, 0.7814],\n",
       "         [0.3468, 0.4179],\n",
       "         [0.9370, 0.5008],\n",
       "         [0.6662, 0.5256],\n",
       "         [0.8679, 0.1603]]])"
      ]
     },
     "execution_count": 23,
     "metadata": {},
     "output_type": "execute_result"
    }
   ],
   "source": [
    "path"
   ]
  },
  {
   "cell_type": "code",
   "execution_count": 35,
   "metadata": {},
   "outputs": [
    {
     "data": {
      "text/plain": [
       "[(0,),\n",
       " (1,),\n",
       " (0, 0),\n",
       " (0, 1),\n",
       " (1, 0),\n",
       " (1, 1),\n",
       " (0, 0, 0),\n",
       " (0, 0, 1),\n",
       " (0, 1, 0),\n",
       " (0, 1, 1),\n",
       " (1, 0, 0),\n",
       " (1, 0, 1),\n",
       " (1, 1, 0),\n",
       " (1, 1, 1)]"
      ]
     },
     "execution_count": 35,
     "metadata": {},
     "output_type": "execute_result"
    }
   ],
   "source": [
    "signatory.all_words(2, 3)"
   ]
  },
  {
   "cell_type": "code",
   "execution_count": 40,
   "metadata": {},
   "outputs": [
    {
     "data": {
      "text/plain": [
       "tensor([[ 1.5965e-01, -4.1264e-01,  1.2744e-02, -1.2884e-04, -6.5749e-02,\n",
       "          8.5136e-02,  6.7819e-04, -4.9400e-03,  9.8594e-03, -8.2087e-03,\n",
       "         -1.0178e-02,  1.6471e-02,  5.3301e-03, -1.1710e-02]])"
      ]
     },
     "execution_count": 40,
     "metadata": {},
     "output_type": "execute_result"
    }
   ],
   "source": [
    "sig"
   ]
  },
  {
   "cell_type": "code",
   "execution_count": 39,
   "metadata": {},
   "outputs": [
    {
     "name": "stdout",
     "output_type": "stream",
     "text": [
      "tensor(0.1596)\n",
      "tensor(-0.4126)\n"
     ]
    },
    {
     "ename": "IndexError",
     "evalue": "too many indices for tensor of dimension 2",
     "output_type": "error",
     "traceback": [
      "\u001b[1;31m---------------------------------------------------------------------------\u001b[0m",
      "\u001b[1;31mIndexError\u001b[0m                                Traceback (most recent call last)",
      "\u001b[1;32mc:\\Users\\gecre\\OneDrive\\Polytechnique\\MAP\\EA\\github\\SigTrading\\Playground.ipynb Cell 5\u001b[0m line \u001b[0;36m1\n\u001b[0;32m     <a href='vscode-notebook-cell:/c%3A/Users/gecre/OneDrive/Polytechnique/MAP/EA/github/SigTrading/Playground.ipynb#X11sZmlsZQ%3D%3D?line=11'>12</a>\u001b[0m words \u001b[39m=\u001b[39m [(\u001b[39m0\u001b[39m,) \u001b[39m+\u001b[39m word \u001b[39mfor\u001b[39;00m word \u001b[39min\u001b[39;00m words]\n\u001b[0;32m     <a href='vscode-notebook-cell:/c%3A/Users/gecre/OneDrive/Polytechnique/MAP/EA/github/SigTrading/Playground.ipynb#X11sZmlsZQ%3D%3D?line=12'>13</a>\u001b[0m \u001b[39mfor\u001b[39;00m word \u001b[39min\u001b[39;00m words:\n\u001b[1;32m---> <a href='vscode-notebook-cell:/c%3A/Users/gecre/OneDrive/Polytechnique/MAP/EA/github/SigTrading/Playground.ipynb#X11sZmlsZQ%3D%3D?line=13'>14</a>\u001b[0m     \u001b[39mprint\u001b[39m(sig[word])\n",
      "\u001b[1;31mIndexError\u001b[0m: too many indices for tensor of dimension 2"
     ]
    }
   ],
   "source": [
    "# Create a tensor of shape (2, 10, 5)\n",
    "# Recall that the order of dimensions is (batch, stream, channel)\n",
    "path = torch.rand(1, 8, 2)\n",
    "# Take the signature to depth 3\n",
    "depth = 3\n",
    "sig = signatory.signature(path, depth)\n",
    "# sig is of shape (2, 155)\n",
    "sig\n",
    "\n",
    "# append 0 at the beginning of each tuple in words\n",
    "words = signatory.all_words(2, 3)\n",
    "words = [(0,) + word for word in words]\n",
    "for word in words:\n",
    "    print(sig[word])"
   ]
  }
 ],
 "metadata": {
  "kernelspec": {
   "display_name": "Python 3",
   "language": "python",
   "name": "python3"
  },
  "language_info": {
   "codemirror_mode": {
    "name": "ipython",
    "version": 3
   },
   "file_extension": ".py",
   "mimetype": "text/x-python",
   "name": "python",
   "nbconvert_exporter": "python",
   "pygments_lexer": "ipython3",
   "version": "3.8.18"
  }
 },
 "nbformat": 4,
 "nbformat_minor": 2
}
