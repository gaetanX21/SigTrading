{
 "cells": [
  {
   "cell_type": "code",
   "execution_count": 2,
   "metadata": {},
   "outputs": [
    {
     "name": "stdout",
     "output_type": "stream",
     "text": [
      "\u001b[94mfunction compute_lead_lag_transform took 0.00s\u001b[0m\n",
      "\u001b[94mfunction compute_signature took 0.07s\u001b[0m\n",
      "\u001b[92mmu_sig successfully computed\u001b[0m\n",
      "\u001b[94mfunction compute_mu_sig took 0.00s\u001b[0m\n",
      "\u001b[92msigma_sig successfully computed\u001b[0m\n",
      "\u001b[94mfunction compute_sigma_sig took 1.65s\u001b[0m\n",
      "\u001b[92mLambda successfully computed\u001b[0m\n",
      "computing self.lambda_ = 2* sqrt(13612384.0/0.3)\n",
      "\u001b[94mfunction compute_lambda took 0.18s\u001b[0m\n",
      "\u001b[92mFitting successful\u001b[0m\n"
     ]
    }
   ],
   "source": [
    "import torch\n",
    "import signatory\n",
    "import numpy as np\n",
    "import itertools\n",
    "import trading_strategy\n",
    "import utils\n",
    "\n",
    "depth = 2\n",
    "delta = 0.3\n",
    "ts = trading_strategy.TradingStrategy(depth, delta)\n",
    "batch_size = 2\n",
    "d = 3 # number of stocks\n",
    "N = 1 # size of info\n",
    "Z_dim = N+d+1 # dimension of Z\n",
    "T = 7 # number of time steps\n",
    "batch_stock_data = 1+torch.rand(batch_size, T, d) # X\n",
    "batch_info_data = 1+torch.rand(batch_size, T, N) # f\n",
    "ts.fit(batch_stock_data, batch_info_data)"
   ]
  },
  {
   "cell_type": "code",
   "execution_count": 3,
   "metadata": {},
   "outputs": [
    {
     "data": {
      "text/plain": [
       "[tensor([ 1.1517e+01,  4.0008e+00, -2.0482e+00,  1.6901e+01,  5.8298e+01,\n",
       "          1.8910e+01, -6.2926e-02, -1.3609e+00,  1.1506e+01, -1.0887e+01,\n",
       "          1.4500e+01,  1.6797e+00,  2.7859e+01, -1.8747e+01, -3.9969e+01,\n",
       "          9.9961e+00,  8.0641e+00, -4.1340e+00,  2.9122e+01, -2.8309e+00,\n",
       "          4.0479e+01, -6.1382e+00, -1.0586e+02,  3.7326e-01,  1.2859e+01,\n",
       "          3.6329e+01,  5.8588e+00, -2.1448e+01,  3.8150e+00, -2.6012e+01,\n",
       "         -8.9168e+00]),\n",
       " tensor([ -33.4089,  -11.4080,   -6.2252,   10.9742,  186.7463,  102.4778,\n",
       "           23.1741,   44.5590,    0.9721,   78.1981,   73.0726,   39.2729,\n",
       "           45.5602,  136.0712,   -9.0333, -255.3709, -103.6024,   -8.2259,\n",
       "          225.7846,   54.3803,   77.9545,  121.1893,   78.3454, -180.2494,\n",
       "          196.8532, -149.5856,  -70.2695,   12.5203,   55.4418,  153.1961,\n",
       "          -40.9346]),\n",
       " tensor([-127.2383,  -56.7573,  197.4228,   19.5160,  104.7580,   58.6915,\n",
       "           -6.7284,   18.4334,   20.3924,   11.1339,   -5.5421,  -59.8104,\n",
       "         -159.5065,  -77.7806,  122.8975,    6.0521,  -19.6024, -154.1597,\n",
       "           61.1323,  -25.3028, -119.5457,  -50.6888,   28.2527, -424.5026,\n",
       "          136.9523,  300.0638,  -61.9685,   97.0875, -214.3860,  446.4286,\n",
       "           59.6228])]"
      ]
     },
     "execution_count": 3,
     "metadata": {},
     "output_type": "execute_result"
    }
   ],
   "source": [
    "ts.functionals"
   ]
  }
 ],
 "metadata": {
  "kernelspec": {
   "display_name": "Python 3",
   "language": "python",
   "name": "python3"
  },
  "language_info": {
   "codemirror_mode": {
    "name": "ipython",
    "version": 3
   },
   "file_extension": ".py",
   "mimetype": "text/x-python",
   "name": "python",
   "nbconvert_exporter": "python",
   "pygments_lexer": "ipython3",
   "version": "3.8.18"
  }
 },
 "nbformat": 4,
 "nbformat_minor": 2
}
