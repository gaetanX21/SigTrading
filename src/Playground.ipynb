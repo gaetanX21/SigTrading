{
 "cells": [
  {
   "cell_type": "code",
   "execution_count": null,
   "metadata": {},
   "outputs": [],
   "source": [
    "# import torch\n",
    "# import signatory\n",
    "# import numpy as np\n",
    "# import itertools\n",
    "# import trading_strategy\n",
    "# import utils\n",
    "# import esig # to deal with indexing of signature\n",
    "\n",
    "depth = 3\n",
    "delta = 0.3\n",
    "ts = trading_strategy.TradingStrategy(depth, delta)\n",
    "batch_size = 2\n",
    "d = 3 # number of stocks\n",
    "N = 1 # size of info\n",
    "Z_dim = N+d+1 # dimension of Z\n",
    "T = 7 # number of time steps\n",
    "batch_stock_data = torch.rand(batch_size, T, d) # X\n",
    "batch_info_data = torch.rand(batch_size, T, N) # f\n",
    "ts.fit(batch_stock_data, batch_info_data)"
   ]
  },
  {
   "cell_type": "code",
   "execution_count": 17,
   "metadata": {},
   "outputs": [
    {
     "name": "stdout",
     "output_type": "stream",
     "text": [
      "word = , i = 0\n",
      "word = 0, i = 1\n",
      "word = 1, i = 2\n",
      "word = 2, i = 3\n",
      "word = 00, i = 4\n",
      "word = 01, i = 5\n",
      "word = 02, i = 6\n",
      "word = 10, i = 7\n",
      "word = 11, i = 8\n",
      "word = 12, i = 9\n",
      "word = 20, i = 10\n",
      "word = 21, i = 11\n",
      "word = 22, i = 12\n",
      "word = 000, i = 13\n",
      "word = 001, i = 14\n",
      "word = 002, i = 15\n",
      "word = 010, i = 16\n",
      "word = 011, i = 17\n",
      "word = 012, i = 18\n",
      "word = 020, i = 19\n",
      "word = 021, i = 20\n",
      "word = 022, i = 21\n",
      "word = 100, i = 22\n",
      "word = 101, i = 23\n",
      "word = 102, i = 24\n",
      "word = 110, i = 25\n",
      "word = 111, i = 26\n",
      "word = 112, i = 27\n",
      "word = 120, i = 28\n",
      "word = 121, i = 29\n",
      "word = 122, i = 30\n",
      "word = 200, i = 31\n",
      "word = 201, i = 32\n",
      "word = 202, i = 33\n",
      "word = 210, i = 34\n",
      "word = 211, i = 35\n",
      "word = 212, i = 36\n",
      "word = 220, i = 37\n",
      "word = 221, i = 38\n",
      "word = 222, i = 39\n"
     ]
    }
   ],
   "source": [
    "import itertools\n",
    "\n",
    "def word_to_i(word, d):\n",
    "    \"\"\"\n",
    "    Given a word written in the alphabet {0, 1, ..., d-1}, return its index in the lexicographic order (basically).\n",
    "    \"\"\"\n",
    "    k = len(word) # we're accessing the k-th signature term\n",
    "    s = sum(d**i for i in range(k)) # 1 + d + d^2 + ... + d^(k-1)\n",
    "    c = 0\n",
    "    for i, w in enumerate(word):\n",
    "        c += int(w) * d**(k-1-i)\n",
    "    return s + c\n",
    "\n",
    "d = 3 # dimension\n",
    "N = 3 # max word length\n",
    "words = []\n",
    "for length in range(N+1):\n",
    "    alphabet = [str(i) for i in range(d)]\n",
    "    words += [''.join(seq) for seq in itertools.product(alphabet, repeat=length)]\n",
    "\n",
    "for word in words:\n",
    "    i = word_to_i(word, d)\n",
    "    print(f'word = {word}, i = {i}')"
   ]
  }
 ],
 "metadata": {
  "kernelspec": {
   "display_name": "Python 3",
   "language": "python",
   "name": "python3"
  },
  "language_info": {
   "codemirror_mode": {
    "name": "ipython",
    "version": 3
   },
   "file_extension": ".py",
   "mimetype": "text/x-python",
   "name": "python",
   "nbconvert_exporter": "python",
   "pygments_lexer": "ipython3",
   "version": "3.11.5"
  }
 },
 "nbformat": 4,
 "nbformat_minor": 2
}
